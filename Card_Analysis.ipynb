{
 "cells": [
  {
   "cell_type": "markdown",
   "id": "2e64e619",
   "metadata": {},
   "source": [
    "## Bring in data and libraries"
   ]
  },
  {
   "cell_type": "code",
   "execution_count": 1,
   "id": "a7408b30",
   "metadata": {},
   "outputs": [],
   "source": [
    "import json\n",
    "import matplotlib.pyplot as plt\n",
    "import numpy as np\n",
    "import pandas as pd\n",
    "import seaborn as sns\n",
    "\n",
    "import warnings\n",
    "warnings.filterwarnings(\"ignore\")"
   ]
  },
  {
   "cell_type": "code",
   "execution_count": 2,
   "id": "e4be1400",
   "metadata": {},
   "outputs": [
    {
     "name": "stdout",
     "output_type": "stream",
     "text": [
      "Globe API Specification.html\r\n",
      "Globepay Acceptance Report - Globepay Acceptance Report.csv\r\n",
      "Globepay Chargeback Report - Globepay Chargeback Report.csv\r\n",
      "Untitled.ipynb\r\n"
     ]
    }
   ],
   "source": [
    "%ls"
   ]
  },
  {
   "cell_type": "code",
   "execution_count": 3,
   "id": "befb870e",
   "metadata": {},
   "outputs": [],
   "source": [
    "df_chargeback = pd.read_csv('Globepay Chargeback Report - Globepay Chargeback Report.csv')\n",
    "df_acceptance = pd.read_csv('Globepay Acceptance Report - Globepay Acceptance Report.csv')"
   ]
  },
  {
   "cell_type": "code",
   "execution_count": 4,
   "id": "b1471608",
   "metadata": {},
   "outputs": [
    {
     "data": {
      "text/html": [
       "<div>\n",
       "<style scoped>\n",
       "    .dataframe tbody tr th:only-of-type {\n",
       "        vertical-align: middle;\n",
       "    }\n",
       "\n",
       "    .dataframe tbody tr th {\n",
       "        vertical-align: top;\n",
       "    }\n",
       "\n",
       "    .dataframe thead th {\n",
       "        text-align: right;\n",
       "    }\n",
       "</style>\n",
       "<table border=\"1\" class=\"dataframe\">\n",
       "  <thead>\n",
       "    <tr style=\"text-align: right;\">\n",
       "      <th></th>\n",
       "      <th>external_ref</th>\n",
       "      <th>status</th>\n",
       "      <th>source</th>\n",
       "      <th>chargeback</th>\n",
       "    </tr>\n",
       "  </thead>\n",
       "  <tbody>\n",
       "    <tr>\n",
       "      <th>0</th>\n",
       "      <td>_-UTDS0dMlagMWEtQKMy-</td>\n",
       "      <td>True</td>\n",
       "      <td>GLOBALPAY</td>\n",
       "      <td>False</td>\n",
       "    </tr>\n",
       "    <tr>\n",
       "      <th>1</th>\n",
       "      <td>_0fqf75KiPa0iiviKCSsU</td>\n",
       "      <td>True</td>\n",
       "      <td>GLOBALPAY</td>\n",
       "      <td>False</td>\n",
       "    </tr>\n",
       "    <tr>\n",
       "      <th>2</th>\n",
       "      <td>_0H9Ecd_RctsLetId-p14</td>\n",
       "      <td>True</td>\n",
       "      <td>GLOBALPAY</td>\n",
       "      <td>False</td>\n",
       "    </tr>\n",
       "    <tr>\n",
       "      <th>3</th>\n",
       "      <td>_0wBrMzAzIhO3fQRWUcBH</td>\n",
       "      <td>True</td>\n",
       "      <td>GLOBALPAY</td>\n",
       "      <td>False</td>\n",
       "    </tr>\n",
       "    <tr>\n",
       "      <th>4</th>\n",
       "      <td>_25jZuGDrmwUEdAwKp1xV</td>\n",
       "      <td>True</td>\n",
       "      <td>GLOBALPAY</td>\n",
       "      <td>False</td>\n",
       "    </tr>\n",
       "  </tbody>\n",
       "</table>\n",
       "</div>"
      ],
      "text/plain": [
       "            external_ref  status     source  chargeback\n",
       "0  _-UTDS0dMlagMWEtQKMy-    True  GLOBALPAY       False\n",
       "1  _0fqf75KiPa0iiviKCSsU    True  GLOBALPAY       False\n",
       "2  _0H9Ecd_RctsLetId-p14    True  GLOBALPAY       False\n",
       "3  _0wBrMzAzIhO3fQRWUcBH    True  GLOBALPAY       False\n",
       "4  _25jZuGDrmwUEdAwKp1xV    True  GLOBALPAY       False"
      ]
     },
     "execution_count": 4,
     "metadata": {},
     "output_type": "execute_result"
    }
   ],
   "source": [
    "df_chargeback.head()"
   ]
  },
  {
   "cell_type": "code",
   "execution_count": 5,
   "id": "34c27acf",
   "metadata": {},
   "outputs": [
    {
     "data": {
      "text/html": [
       "<div>\n",
       "<style scoped>\n",
       "    .dataframe tbody tr th:only-of-type {\n",
       "        vertical-align: middle;\n",
       "    }\n",
       "\n",
       "    .dataframe tbody tr th {\n",
       "        vertical-align: top;\n",
       "    }\n",
       "\n",
       "    .dataframe thead th {\n",
       "        text-align: right;\n",
       "    }\n",
       "</style>\n",
       "<table border=\"1\" class=\"dataframe\">\n",
       "  <thead>\n",
       "    <tr style=\"text-align: right;\">\n",
       "      <th></th>\n",
       "      <th>external_ref</th>\n",
       "      <th>status</th>\n",
       "      <th>source</th>\n",
       "      <th>ref</th>\n",
       "      <th>date_time</th>\n",
       "      <th>state</th>\n",
       "      <th>cvv_provided</th>\n",
       "      <th>amount</th>\n",
       "      <th>country</th>\n",
       "      <th>currency</th>\n",
       "      <th>rates</th>\n",
       "    </tr>\n",
       "  </thead>\n",
       "  <tbody>\n",
       "    <tr>\n",
       "      <th>0</th>\n",
       "      <td>nCyEIIGaP5QQ2Wqb-_Rt8</td>\n",
       "      <td>True</td>\n",
       "      <td>GLOBALPAY</td>\n",
       "      <td>evt_1ESgcCOV7fY1ChY1MkZizZt</td>\n",
       "      <td>2019-01-01T00:00:00.000Z</td>\n",
       "      <td>DECLINED</td>\n",
       "      <td>False</td>\n",
       "      <td>1020.46</td>\n",
       "      <td>US</td>\n",
       "      <td>USD</td>\n",
       "      <td>{\"CAD\":1.415,\"EUR\":0.926,\"MXN\":25.103,\"USD\":1,...</td>\n",
       "    </tr>\n",
       "    <tr>\n",
       "      <th>1</th>\n",
       "      <td>ptNiI9B7NNpK7VsMZx6zZ</td>\n",
       "      <td>True</td>\n",
       "      <td>GLOBALPAY</td>\n",
       "      <td>evt_1EBMGCEjEtianKMJaZXOx1y</td>\n",
       "      <td>2019-01-01T04:48:00.000Z</td>\n",
       "      <td>ACCEPTED</td>\n",
       "      <td>False</td>\n",
       "      <td>1582.57</td>\n",
       "      <td>US</td>\n",
       "      <td>USD</td>\n",
       "      <td>{\"CAD\":1.415,\"EUR\":0.926,\"MXN\":25.103,\"USD\":1,...</td>\n",
       "    </tr>\n",
       "    <tr>\n",
       "      <th>2</th>\n",
       "      <td>1GS5BDKBnauCt-3nHPs6x</td>\n",
       "      <td>True</td>\n",
       "      <td>GLOBALPAY</td>\n",
       "      <td>evt_1EOALu0AZqEhZBn9ub_nbcE</td>\n",
       "      <td>2019-01-01T09:36:00.000Z</td>\n",
       "      <td>DECLINED</td>\n",
       "      <td>False</td>\n",
       "      <td>1653.07</td>\n",
       "      <td>US</td>\n",
       "      <td>USD</td>\n",
       "      <td>{\"CAD\":1.415,\"EUR\":0.926,\"MXN\":25.103,\"USD\":1,...</td>\n",
       "    </tr>\n",
       "    <tr>\n",
       "      <th>3</th>\n",
       "      <td>Y_oecYz8GjBDaxmMqkkLQ</td>\n",
       "      <td>True</td>\n",
       "      <td>GLOBALPAY</td>\n",
       "      <td>evt_1ESHsWyaSPqE1mrmJ2B6rvs</td>\n",
       "      <td>2019-01-01T14:24:00.000Z</td>\n",
       "      <td>ACCEPTED</td>\n",
       "      <td>False</td>\n",
       "      <td>2228.17</td>\n",
       "      <td>US</td>\n",
       "      <td>USD</td>\n",
       "      <td>{\"CAD\":1.415,\"EUR\":0.926,\"MXN\":25.103,\"USD\":1,...</td>\n",
       "    </tr>\n",
       "    <tr>\n",
       "      <th>4</th>\n",
       "      <td>LlEs1TnKVa2xX6PH9Zsz0</td>\n",
       "      <td>True</td>\n",
       "      <td>GLOBALPAY</td>\n",
       "      <td>evt_1EjzPk13qLzmvDR_4hXuMMw</td>\n",
       "      <td>2019-01-01T19:12:00.000Z</td>\n",
       "      <td>ACCEPTED</td>\n",
       "      <td>False</td>\n",
       "      <td>2589.92</td>\n",
       "      <td>US</td>\n",
       "      <td>USD</td>\n",
       "      <td>{\"CAD\":1.415,\"EUR\":0.926,\"MXN\":25.103,\"USD\":1,...</td>\n",
       "    </tr>\n",
       "  </tbody>\n",
       "</table>\n",
       "</div>"
      ],
      "text/plain": [
       "            external_ref  status     source                          ref  \\\n",
       "0  nCyEIIGaP5QQ2Wqb-_Rt8    True  GLOBALPAY  evt_1ESgcCOV7fY1ChY1MkZizZt   \n",
       "1  ptNiI9B7NNpK7VsMZx6zZ    True  GLOBALPAY  evt_1EBMGCEjEtianKMJaZXOx1y   \n",
       "2  1GS5BDKBnauCt-3nHPs6x    True  GLOBALPAY  evt_1EOALu0AZqEhZBn9ub_nbcE   \n",
       "3  Y_oecYz8GjBDaxmMqkkLQ    True  GLOBALPAY  evt_1ESHsWyaSPqE1mrmJ2B6rvs   \n",
       "4  LlEs1TnKVa2xX6PH9Zsz0    True  GLOBALPAY  evt_1EjzPk13qLzmvDR_4hXuMMw   \n",
       "\n",
       "                  date_time     state  cvv_provided   amount country currency  \\\n",
       "0  2019-01-01T00:00:00.000Z  DECLINED         False  1020.46      US      USD   \n",
       "1  2019-01-01T04:48:00.000Z  ACCEPTED         False  1582.57      US      USD   \n",
       "2  2019-01-01T09:36:00.000Z  DECLINED         False  1653.07      US      USD   \n",
       "3  2019-01-01T14:24:00.000Z  ACCEPTED         False  2228.17      US      USD   \n",
       "4  2019-01-01T19:12:00.000Z  ACCEPTED         False  2589.92      US      USD   \n",
       "\n",
       "                                               rates  \n",
       "0  {\"CAD\":1.415,\"EUR\":0.926,\"MXN\":25.103,\"USD\":1,...  \n",
       "1  {\"CAD\":1.415,\"EUR\":0.926,\"MXN\":25.103,\"USD\":1,...  \n",
       "2  {\"CAD\":1.415,\"EUR\":0.926,\"MXN\":25.103,\"USD\":1,...  \n",
       "3  {\"CAD\":1.415,\"EUR\":0.926,\"MXN\":25.103,\"USD\":1,...  \n",
       "4  {\"CAD\":1.415,\"EUR\":0.926,\"MXN\":25.103,\"USD\":1,...  "
      ]
     },
     "execution_count": 5,
     "metadata": {},
     "output_type": "execute_result"
    }
   ],
   "source": [
    "df_acceptance.head()"
   ]
  },
  {
   "cell_type": "code",
   "execution_count": 6,
   "id": "6f0ce96f",
   "metadata": {},
   "outputs": [
    {
     "data": {
      "text/plain": [
       "(5430, 11)"
      ]
     },
     "execution_count": 6,
     "metadata": {},
     "output_type": "execute_result"
    }
   ],
   "source": [
    "df_acceptance.shape"
   ]
  },
  {
   "cell_type": "code",
   "execution_count": 7,
   "id": "6635c4b2",
   "metadata": {},
   "outputs": [
    {
     "data": {
      "text/plain": [
       "(5430, 4)"
      ]
     },
     "execution_count": 7,
     "metadata": {},
     "output_type": "execute_result"
    }
   ],
   "source": [
    "df_chargeback.shape"
   ]
  },
  {
   "cell_type": "code",
   "execution_count": 8,
   "id": "61dcac00",
   "metadata": {},
   "outputs": [
    {
     "data": {
      "text/html": [
       "<div>\n",
       "<style scoped>\n",
       "    .dataframe tbody tr th:only-of-type {\n",
       "        vertical-align: middle;\n",
       "    }\n",
       "\n",
       "    .dataframe tbody tr th {\n",
       "        vertical-align: top;\n",
       "    }\n",
       "\n",
       "    .dataframe thead th {\n",
       "        text-align: right;\n",
       "    }\n",
       "</style>\n",
       "<table border=\"1\" class=\"dataframe\">\n",
       "  <thead>\n",
       "    <tr style=\"text-align: right;\">\n",
       "      <th></th>\n",
       "      <th>amount</th>\n",
       "    </tr>\n",
       "  </thead>\n",
       "  <tbody>\n",
       "    <tr>\n",
       "      <th>count</th>\n",
       "      <td>5430.000000</td>\n",
       "    </tr>\n",
       "    <tr>\n",
       "      <th>mean</th>\n",
       "      <td>86938.605757</td>\n",
       "    </tr>\n",
       "    <tr>\n",
       "      <th>std</th>\n",
       "      <td>50327.853421</td>\n",
       "    </tr>\n",
       "    <tr>\n",
       "      <th>min</th>\n",
       "      <td>-23.780000</td>\n",
       "    </tr>\n",
       "    <tr>\n",
       "      <th>25%</th>\n",
       "      <td>42481.355000</td>\n",
       "    </tr>\n",
       "    <tr>\n",
       "      <th>50%</th>\n",
       "      <td>85488.025000</td>\n",
       "    </tr>\n",
       "    <tr>\n",
       "      <th>75%</th>\n",
       "      <td>128548.397500</td>\n",
       "    </tr>\n",
       "    <tr>\n",
       "      <th>max</th>\n",
       "      <td>180371.520000</td>\n",
       "    </tr>\n",
       "  </tbody>\n",
       "</table>\n",
       "</div>"
      ],
      "text/plain": [
       "              amount\n",
       "count    5430.000000\n",
       "mean    86938.605757\n",
       "std     50327.853421\n",
       "min       -23.780000\n",
       "25%     42481.355000\n",
       "50%     85488.025000\n",
       "75%    128548.397500\n",
       "max    180371.520000"
      ]
     },
     "execution_count": 8,
     "metadata": {},
     "output_type": "execute_result"
    }
   ],
   "source": [
    "df_acceptance.describe()"
   ]
  },
  {
   "cell_type": "code",
   "execution_count": 9,
   "id": "58d84808",
   "metadata": {},
   "outputs": [
    {
     "data": {
      "text/html": [
       "<div>\n",
       "<style scoped>\n",
       "    .dataframe tbody tr th:only-of-type {\n",
       "        vertical-align: middle;\n",
       "    }\n",
       "\n",
       "    .dataframe tbody tr th {\n",
       "        vertical-align: top;\n",
       "    }\n",
       "\n",
       "    .dataframe thead th {\n",
       "        text-align: right;\n",
       "    }\n",
       "</style>\n",
       "<table border=\"1\" class=\"dataframe\">\n",
       "  <thead>\n",
       "    <tr style=\"text-align: right;\">\n",
       "      <th></th>\n",
       "      <th>external_ref</th>\n",
       "      <th>status</th>\n",
       "      <th>source</th>\n",
       "      <th>chargeback</th>\n",
       "    </tr>\n",
       "  </thead>\n",
       "  <tbody>\n",
       "    <tr>\n",
       "      <th>count</th>\n",
       "      <td>5430</td>\n",
       "      <td>5430</td>\n",
       "      <td>5430</td>\n",
       "      <td>5430</td>\n",
       "    </tr>\n",
       "    <tr>\n",
       "      <th>unique</th>\n",
       "      <td>5430</td>\n",
       "      <td>1</td>\n",
       "      <td>1</td>\n",
       "      <td>2</td>\n",
       "    </tr>\n",
       "    <tr>\n",
       "      <th>top</th>\n",
       "      <td>_-UTDS0dMlagMWEtQKMy-</td>\n",
       "      <td>True</td>\n",
       "      <td>GLOBALPAY</td>\n",
       "      <td>False</td>\n",
       "    </tr>\n",
       "    <tr>\n",
       "      <th>freq</th>\n",
       "      <td>1</td>\n",
       "      <td>5430</td>\n",
       "      <td>5430</td>\n",
       "      <td>5207</td>\n",
       "    </tr>\n",
       "  </tbody>\n",
       "</table>\n",
       "</div>"
      ],
      "text/plain": [
       "                 external_ref status     source chargeback\n",
       "count                    5430   5430       5430       5430\n",
       "unique                   5430      1          1          2\n",
       "top     _-UTDS0dMlagMWEtQKMy-   True  GLOBALPAY      False\n",
       "freq                        1   5430       5430       5207"
      ]
     },
     "execution_count": 9,
     "metadata": {},
     "output_type": "execute_result"
    }
   ],
   "source": [
    "df_chargeback.describe()"
   ]
  },
  {
   "cell_type": "code",
   "execution_count": 10,
   "id": "4d326979",
   "metadata": {},
   "outputs": [
    {
     "data": {
      "text/html": [
       "<div>\n",
       "<style scoped>\n",
       "    .dataframe tbody tr th:only-of-type {\n",
       "        vertical-align: middle;\n",
       "    }\n",
       "\n",
       "    .dataframe tbody tr th {\n",
       "        vertical-align: top;\n",
       "    }\n",
       "\n",
       "    .dataframe thead th {\n",
       "        text-align: right;\n",
       "    }\n",
       "</style>\n",
       "<table border=\"1\" class=\"dataframe\">\n",
       "  <thead>\n",
       "    <tr style=\"text-align: right;\">\n",
       "      <th></th>\n",
       "      <th>external_ref</th>\n",
       "      <th>status</th>\n",
       "      <th>source</th>\n",
       "      <th>ref</th>\n",
       "      <th>date_time</th>\n",
       "      <th>state</th>\n",
       "      <th>cvv_provided</th>\n",
       "      <th>amount</th>\n",
       "      <th>country</th>\n",
       "      <th>currency</th>\n",
       "      <th>rates</th>\n",
       "    </tr>\n",
       "  </thead>\n",
       "  <tbody>\n",
       "    <tr>\n",
       "      <th>11</th>\n",
       "      <td>SPm_aqm_Rrer_6jxpLvO2</td>\n",
       "      <td>True</td>\n",
       "      <td>GLOBALPAY</td>\n",
       "      <td>evt_1EhCNv4mRDFQzT2r2O5Cy5G</td>\n",
       "      <td>2019-01-01T04:48:00.000Z</td>\n",
       "      <td>ACCEPTED</td>\n",
       "      <td>False</td>\n",
       "      <td>-23.78</td>\n",
       "      <td>UK</td>\n",
       "      <td>GBP</td>\n",
       "      <td>{\"CAD\":1.4173511828553305,\"EUR\":0.922579749754...</td>\n",
       "    </tr>\n",
       "  </tbody>\n",
       "</table>\n",
       "</div>"
      ],
      "text/plain": [
       "             external_ref  status     source                          ref  \\\n",
       "11  SPm_aqm_Rrer_6jxpLvO2    True  GLOBALPAY  evt_1EhCNv4mRDFQzT2r2O5Cy5G   \n",
       "\n",
       "                   date_time     state  cvv_provided  amount country currency  \\\n",
       "11  2019-01-01T04:48:00.000Z  ACCEPTED         False  -23.78      UK      GBP   \n",
       "\n",
       "                                                rates  \n",
       "11  {\"CAD\":1.4173511828553305,\"EUR\":0.922579749754...  "
      ]
     },
     "execution_count": 10,
     "metadata": {},
     "output_type": "execute_result"
    }
   ],
   "source": [
    "\n",
    "df_acceptance[df_acceptance.amount < 0]"
   ]
  },
  {
   "cell_type": "markdown",
   "id": "ec78698e",
   "metadata": {},
   "source": [
    "## Check missing Data"
   ]
  },
  {
   "cell_type": "code",
   "execution_count": 31,
   "id": "1cf3f76b",
   "metadata": {},
   "outputs": [
    {
     "data": {
      "text/html": [
       "<div>\n",
       "<style scoped>\n",
       "    .dataframe tbody tr th:only-of-type {\n",
       "        vertical-align: middle;\n",
       "    }\n",
       "\n",
       "    .dataframe tbody tr th {\n",
       "        vertical-align: top;\n",
       "    }\n",
       "\n",
       "    .dataframe thead th {\n",
       "        text-align: right;\n",
       "    }\n",
       "</style>\n",
       "<table border=\"1\" class=\"dataframe\">\n",
       "  <thead>\n",
       "    <tr style=\"text-align: right;\">\n",
       "      <th></th>\n",
       "      <th>column_name</th>\n",
       "      <th>percent_missing</th>\n",
       "    </tr>\n",
       "  </thead>\n",
       "  <tbody>\n",
       "    <tr>\n",
       "      <th>external_ref</th>\n",
       "      <td>external_ref</td>\n",
       "      <td>0.0</td>\n",
       "    </tr>\n",
       "    <tr>\n",
       "      <th>status</th>\n",
       "      <td>status</td>\n",
       "      <td>0.0</td>\n",
       "    </tr>\n",
       "    <tr>\n",
       "      <th>source</th>\n",
       "      <td>source</td>\n",
       "      <td>0.0</td>\n",
       "    </tr>\n",
       "    <tr>\n",
       "      <th>ref</th>\n",
       "      <td>ref</td>\n",
       "      <td>0.0</td>\n",
       "    </tr>\n",
       "    <tr>\n",
       "      <th>date_time</th>\n",
       "      <td>date_time</td>\n",
       "      <td>0.0</td>\n",
       "    </tr>\n",
       "    <tr>\n",
       "      <th>state</th>\n",
       "      <td>state</td>\n",
       "      <td>0.0</td>\n",
       "    </tr>\n",
       "    <tr>\n",
       "      <th>cvv_provided</th>\n",
       "      <td>cvv_provided</td>\n",
       "      <td>0.0</td>\n",
       "    </tr>\n",
       "    <tr>\n",
       "      <th>amount</th>\n",
       "      <td>amount</td>\n",
       "      <td>0.0</td>\n",
       "    </tr>\n",
       "    <tr>\n",
       "      <th>country</th>\n",
       "      <td>country</td>\n",
       "      <td>0.0</td>\n",
       "    </tr>\n",
       "    <tr>\n",
       "      <th>currency</th>\n",
       "      <td>currency</td>\n",
       "      <td>0.0</td>\n",
       "    </tr>\n",
       "    <tr>\n",
       "      <th>rates</th>\n",
       "      <td>rates</td>\n",
       "      <td>0.0</td>\n",
       "    </tr>\n",
       "    <tr>\n",
       "      <th>amount_usd</th>\n",
       "      <td>amount_usd</td>\n",
       "      <td>0.0</td>\n",
       "    </tr>\n",
       "    <tr>\n",
       "      <th>encoding</th>\n",
       "      <td>encoding</td>\n",
       "      <td>0.0</td>\n",
       "    </tr>\n",
       "  </tbody>\n",
       "</table>\n",
       "</div>"
      ],
      "text/plain": [
       "               column_name  percent_missing\n",
       "external_ref  external_ref              0.0\n",
       "status              status              0.0\n",
       "source              source              0.0\n",
       "ref                    ref              0.0\n",
       "date_time        date_time              0.0\n",
       "state                state              0.0\n",
       "cvv_provided  cvv_provided              0.0\n",
       "amount              amount              0.0\n",
       "country            country              0.0\n",
       "currency          currency              0.0\n",
       "rates                rates              0.0\n",
       "amount_usd      amount_usd              0.0\n",
       "encoding          encoding              0.0"
      ]
     },
     "execution_count": 31,
     "metadata": {},
     "output_type": "execute_result"
    }
   ],
   "source": [
    "percent_missing = df_acceptance.isnull().sum() * 100 / len(df_acceptance)\n",
    "missing_value_df = pd.DataFrame({'column_name': df_acceptance.columns,\n",
    "                                 'percent_missing': percent_missing})\n",
    "missing_value_df.sort_values('percent_missing', inplace=True)\n",
    "missing_value_df"
   ]
  },
  {
   "cell_type": "code",
   "execution_count": 32,
   "id": "1ce5d6a3",
   "metadata": {},
   "outputs": [
    {
     "data": {
      "text/html": [
       "<div>\n",
       "<style scoped>\n",
       "    .dataframe tbody tr th:only-of-type {\n",
       "        vertical-align: middle;\n",
       "    }\n",
       "\n",
       "    .dataframe tbody tr th {\n",
       "        vertical-align: top;\n",
       "    }\n",
       "\n",
       "    .dataframe thead th {\n",
       "        text-align: right;\n",
       "    }\n",
       "</style>\n",
       "<table border=\"1\" class=\"dataframe\">\n",
       "  <thead>\n",
       "    <tr style=\"text-align: right;\">\n",
       "      <th></th>\n",
       "      <th>column_name</th>\n",
       "      <th>percent_missing</th>\n",
       "    </tr>\n",
       "  </thead>\n",
       "  <tbody>\n",
       "    <tr>\n",
       "      <th>external_ref</th>\n",
       "      <td>external_ref</td>\n",
       "      <td>0.0</td>\n",
       "    </tr>\n",
       "    <tr>\n",
       "      <th>status</th>\n",
       "      <td>status</td>\n",
       "      <td>0.0</td>\n",
       "    </tr>\n",
       "    <tr>\n",
       "      <th>source</th>\n",
       "      <td>source</td>\n",
       "      <td>0.0</td>\n",
       "    </tr>\n",
       "    <tr>\n",
       "      <th>chargeback</th>\n",
       "      <td>chargeback</td>\n",
       "      <td>0.0</td>\n",
       "    </tr>\n",
       "  </tbody>\n",
       "</table>\n",
       "</div>"
      ],
      "text/plain": [
       "               column_name  percent_missing\n",
       "external_ref  external_ref              0.0\n",
       "status              status              0.0\n",
       "source              source              0.0\n",
       "chargeback      chargeback              0.0"
      ]
     },
     "execution_count": 32,
     "metadata": {},
     "output_type": "execute_result"
    }
   ],
   "source": [
    "percent_missing = df_chargeback.isnull().sum() * 100 / len(df_chargeback)\n",
    "missing_value_df = pd.DataFrame({'column_name': df_chargeback.columns,\n",
    "                                 'percent_missing': percent_missing})\n",
    "missing_value_df.sort_values('percent_missing', inplace=True)\n",
    "missing_value_df"
   ]
  },
  {
   "cell_type": "markdown",
   "id": "26ee23b2",
   "metadata": {},
   "source": [
    "# Task #1"
   ]
  },
  {
   "cell_type": "markdown",
   "id": "09569cd9",
   "metadata": {},
   "source": [
    "### Outlines the volume (in USD) of the declined payments"
   ]
  },
  {
   "cell_type": "code",
   "execution_count": 11,
   "id": "7ed7c996",
   "metadata": {},
   "outputs": [],
   "source": [
    "# Creat usd_amount column for each transaction\n",
    "def convert_currency(row):\n",
    "    rates = json.loads(row['rates'])\n",
    "    amount_usd = row['amount'] / rates[row['currency']]\n",
    "    return amount_usd\n",
    "\n",
    "df_acceptance['amount_usd'] = df_acceptance.apply(convert_currency, axis=1)\n",
    "\n",
    "\n"
   ]
  },
  {
   "cell_type": "code",
   "execution_count": 12,
   "id": "4f593c63",
   "metadata": {},
   "outputs": [
    {
     "data": {
      "text/plain": [
       "array(['DECLINED', 'ACCEPTED'], dtype=object)"
      ]
     },
     "execution_count": 12,
     "metadata": {},
     "output_type": "execute_result"
    }
   ],
   "source": [
    "df_acceptance['state'].unique()"
   ]
  },
  {
   "cell_type": "code",
   "execution_count": 75,
   "id": "22fc7c89",
   "metadata": {},
   "outputs": [
    {
     "data": {
      "text/plain": [
       "130877578.83076099"
      ]
     },
     "execution_count": 75,
     "metadata": {},
     "output_type": "execute_result"
    }
   ],
   "source": [
    "# total amount of declined transactions in USD\n",
    "df_acceptance[df_acceptance['state'] == 'DECLINED'].amount_usd.sum()"
   ]
  },
  {
   "cell_type": "code",
   "execution_count": 14,
   "id": "74483626",
   "metadata": {},
   "outputs": [],
   "source": [
    "df_volumes = df_acceptance.groupby('state')['amount_usd'].agg(['sum','count'])\n",
    "df_volumes.reset_index(inplace = True)"
   ]
  },
  {
   "cell_type": "code",
   "execution_count": 15,
   "id": "80848c9c",
   "metadata": {},
   "outputs": [
    {
     "data": {
      "text/plain": [
       "<AxesSubplot:xlabel='state', ylabel='sum'>"
      ]
     },
     "execution_count": 15,
     "metadata": {},
     "output_type": "execute_result"
    },
    {
     "data": {
      "image/png": "[encoded data removed]",
      "text/plain": [
       "<Figure size 432x288 with 1 Axes>"
      ]
     },
     "metadata": {
      "needs_background": "light"
     },
     "output_type": "display_data"
    }
   ],
   "source": [
    "sns.barplot(data=df_volumes, x=\"state\", y=\"sum\")"
   ]
  },
  {
   "cell_type": "code",
   "execution_count": 16,
   "id": "b780e4a3",
   "metadata": {},
   "outputs": [
    {
     "data": {
      "text/plain": [
       "<AxesSubplot:xlabel='state', ylabel='count'>"
      ]
     },
     "execution_count": 16,
     "metadata": {},
     "output_type": "execute_result"
    },
    {
     "data": {
      "image/png": "[encoded data removed]",
      "text/plain": [
       "<Figure size 432x288 with 1 Axes>"
      ]
     },
     "metadata": {
      "needs_background": "light"
     },
     "output_type": "display_data"
    }
   ],
   "source": [
    "sns.countplot(df_acceptance['state'])"
   ]
  },
  {
   "cell_type": "code",
   "execution_count": 18,
   "id": "af82fc31",
   "metadata": {},
   "outputs": [
    {
     "data": {
      "image/png": "[encoded data removed]",
      "text/plain": [
       "<Figure size 432x432 with 1 Axes>"
      ]
     },
     "metadata": {},
     "output_type": "display_data"
    }
   ],
   "source": [
    "fig, ax = plt.subplots(figsize=(6, 6))\n",
    "ax.pie(df_volumes['count'], labels=['ACCEPTED','DECLINED'], autopct='%.1f%%')\n",
    "ax.set_title('Acceptance vs Decline Rates')\n",
    "plt.tight_layout()"
   ]
  },
  {
   "cell_type": "markdown",
   "id": "70f4b67a",
   "metadata": {},
   "source": [
    "### Analyses the problem root causes"
   ]
  },
  {
   "cell_type": "markdown",
   "id": "01a220f2",
   "metadata": {},
   "source": [
    "#### Acceptance rate by binning amounts"
   ]
  },
  {
   "cell_type": "code",
   "execution_count": 62,
   "id": "99b808b8",
   "metadata": {},
   "outputs": [
    {
     "data": {
      "text/html": [
       "<div>\n",
       "<style scoped>\n",
       "    .dataframe tbody tr th:only-of-type {\n",
       "        vertical-align: middle;\n",
       "    }\n",
       "\n",
       "    .dataframe tbody tr th {\n",
       "        vertical-align: top;\n",
       "    }\n",
       "\n",
       "    .dataframe thead th {\n",
       "        text-align: right;\n",
       "    }\n",
       "</style>\n",
       "<table border=\"1\" class=\"dataframe\">\n",
       "  <thead>\n",
       "    <tr style=\"text-align: right;\">\n",
       "      <th></th>\n",
       "      <th>case_count</th>\n",
       "      <th>acceptance_rate</th>\n",
       "    </tr>\n",
       "    <tr>\n",
       "      <th>amount_usd</th>\n",
       "      <th></th>\n",
       "      <th></th>\n",
       "    </tr>\n",
       "  </thead>\n",
       "  <tbody>\n",
       "    <tr>\n",
       "      <th>(10, 100]</th>\n",
       "      <td>9</td>\n",
       "      <td>0.666667</td>\n",
       "    </tr>\n",
       "    <tr>\n",
       "      <th>(100, 1000]</th>\n",
       "      <td>150</td>\n",
       "      <td>0.726667</td>\n",
       "    </tr>\n",
       "    <tr>\n",
       "      <th>(1000, 10000]</th>\n",
       "      <td>999</td>\n",
       "      <td>0.708709</td>\n",
       "    </tr>\n",
       "    <tr>\n",
       "      <th>(10000, 100000]</th>\n",
       "      <td>2281</td>\n",
       "      <td>0.686541</td>\n",
       "    </tr>\n",
       "    <tr>\n",
       "      <th>(100000, 1000000]</th>\n",
       "      <td>1990</td>\n",
       "      <td>0.696985</td>\n",
       "    </tr>\n",
       "  </tbody>\n",
       "</table>\n",
       "</div>"
      ],
      "text/plain": [
       "                   case_count  acceptance_rate\n",
       "amount_usd                                    \n",
       "(10, 100]                   9         0.666667\n",
       "(100, 1000]               150         0.726667\n",
       "(1000, 10000]             999         0.708709\n",
       "(10000, 100000]          2281         0.686541\n",
       "(100000, 1000000]        1990         0.696985"
      ]
     },
     "execution_count": 62,
     "metadata": {},
     "output_type": "execute_result"
    }
   ],
   "source": [
    "bins = np.array([10, 100, 1000, 10000, 100000, 1000000])\n",
    "\n",
    "df_amount = df_acceptance.groupby(pd.cut(df_acceptance.amount_usd, bins)).encoding.agg(case_count = 'count', acceptance_rate = 'mean')\n",
    "df_amount"
   ]
  },
  {
   "cell_type": "code",
   "execution_count": 63,
   "id": "6e1fc5d7",
   "metadata": {},
   "outputs": [
    {
     "data": {
      "text/plain": [
       "[]"
      ]
     },
     "execution_count": 63,
     "metadata": {},
     "output_type": "execute_result"
    },
    {
     "data": {
      "image/png": "[encoded data removed]",
      "text/plain": [
       "<Figure size 432x288 with 1 Axes>"
      ]
     },
     "metadata": {},
     "output_type": "display_data"
    }
   ],
   "source": [
    "df_amount.acceptance_rate.plot()\n",
    "plt.title('Accepetance Rate in transaction amounts')\n",
    "plt.xticks(rotation=15)\n",
    "plt.xlabel('USD Amount Range')\n",
    "plt.ylabel('Accepetance Rate')\n",
    "plt.plot()"
   ]
  },
  {
   "cell_type": "markdown",
   "id": "2e133248",
   "metadata": {},
   "source": [
    "#### Declined total amount by countries in USD"
   ]
  },
  {
   "cell_type": "code",
   "execution_count": 65,
   "id": "dc121670",
   "metadata": {},
   "outputs": [
    {
     "data": {
      "text/plain": [
       "country\n",
       "AE    26335152.43\n",
       "CA    18422315.65\n",
       "FR    32628785.93\n",
       "MX      876158.35\n",
       "UK    27489496.69\n",
       "US    25125669.78\n",
       "Name: amount_usd, dtype: float64"
      ]
     },
     "execution_count": 65,
     "metadata": {},
     "output_type": "execute_result"
    }
   ],
   "source": [
    "df_declined_amount = df_acceptance[df_acceptance.state == 'DECLINED'].groupby('country').amount_usd.sum().round(2)\n",
    "df_declined_amount"
   ]
  },
  {
   "cell_type": "code",
   "execution_count": 66,
   "id": "5f8a8ec4",
   "metadata": {},
   "outputs": [
    {
     "data": {
      "image/png": "[encoded data removed]",
      "text/plain": [
       "<Figure size 504x504 with 1 Axes>"
      ]
     },
     "metadata": {},
     "output_type": "display_data"
    }
   ],
   "source": [
    "df_declined_amount.plot(kind = 'pie', autopct = '%.2f%%', figsize=(7,7)).set(ylabel='')\n",
    "plt.title('Percantages of Declined transaction in USD by country', fontsize = 15)\n",
    "plt.show()"
   ]
  },
  {
   "cell_type": "code",
   "execution_count": 70,
   "id": "87dd05e9",
   "metadata": {},
   "outputs": [
    {
     "data": {
      "image/png": "[encoded data removed]",
      "text/plain": [
       "<Figure size 504x504 with 1 Axes>"
      ]
     },
     "metadata": {},
     "output_type": "display_data"
    }
   ],
   "source": [
    "df_acceptance[df_acceptance.state == 'DECLINED'].groupby('country').size().plot(kind = 'pie', autopct = '%.2f%%', figsize=(7,7)).set(ylabel='')\n",
    "plt.title('Percantages of Declined transaction count by country', fontsize = 15)\n",
    "plt.show()"
   ]
  },
  {
   "cell_type": "markdown",
   "id": "f2793db3",
   "metadata": {},
   "source": [
    "#### Acceptance rate by countries "
   ]
  },
  {
   "cell_type": "code",
   "execution_count": 54,
   "id": "e749f3ce",
   "metadata": {},
   "outputs": [
    {
     "data": {
      "text/html": [
       "<div>\n",
       "<style scoped>\n",
       "    .dataframe tbody tr th:only-of-type {\n",
       "        vertical-align: middle;\n",
       "    }\n",
       "\n",
       "    .dataframe tbody tr th {\n",
       "        vertical-align: top;\n",
       "    }\n",
       "\n",
       "    .dataframe thead th {\n",
       "        text-align: right;\n",
       "    }\n",
       "</style>\n",
       "<table border=\"1\" class=\"dataframe\">\n",
       "  <thead>\n",
       "    <tr style=\"text-align: right;\">\n",
       "      <th></th>\n",
       "      <th>case_count</th>\n",
       "      <th>acceptance_rate</th>\n",
       "    </tr>\n",
       "    <tr>\n",
       "      <th>country</th>\n",
       "      <th></th>\n",
       "      <th></th>\n",
       "    </tr>\n",
       "  </thead>\n",
       "  <tbody>\n",
       "    <tr>\n",
       "      <th>AE</th>\n",
       "      <td>905</td>\n",
       "      <td>0.678453</td>\n",
       "    </tr>\n",
       "    <tr>\n",
       "      <th>CA</th>\n",
       "      <td>905</td>\n",
       "      <td>0.696133</td>\n",
       "    </tr>\n",
       "    <tr>\n",
       "      <th>FR</th>\n",
       "      <td>905</td>\n",
       "      <td>0.700552</td>\n",
       "    </tr>\n",
       "    <tr>\n",
       "      <th>MX</th>\n",
       "      <td>905</td>\n",
       "      <td>0.711602</td>\n",
       "    </tr>\n",
       "    <tr>\n",
       "      <th>UK</th>\n",
       "      <td>905</td>\n",
       "      <td>0.714917</td>\n",
       "    </tr>\n",
       "    <tr>\n",
       "      <th>US</th>\n",
       "      <td>905</td>\n",
       "      <td>0.671823</td>\n",
       "    </tr>\n",
       "  </tbody>\n",
       "</table>\n",
       "</div>"
      ],
      "text/plain": [
       "         case_count  acceptance_rate\n",
       "country                             \n",
       "AE              905         0.678453\n",
       "CA              905         0.696133\n",
       "FR              905         0.700552\n",
       "MX              905         0.711602\n",
       "UK              905         0.714917\n",
       "US              905         0.671823"
      ]
     },
     "execution_count": 54,
     "metadata": {},
     "output_type": "execute_result"
    }
   ],
   "source": [
    "df_acceptance.groupby('country').encoding.agg(case_count = 'count', acceptance_rate = 'mean')"
   ]
  },
  {
   "cell_type": "code",
   "execution_count": null,
   "id": "6c274106",
   "metadata": {},
   "outputs": [],
   "source": [
    "#### Acceptance rate by currency"
   ]
  },
  {
   "cell_type": "code",
   "execution_count": 55,
   "id": "189d4530",
   "metadata": {},
   "outputs": [
    {
     "data": {
      "text/html": [
       "<div>\n",
       "<style scoped>\n",
       "    .dataframe tbody tr th:only-of-type {\n",
       "        vertical-align: middle;\n",
       "    }\n",
       "\n",
       "    .dataframe tbody tr th {\n",
       "        vertical-align: top;\n",
       "    }\n",
       "\n",
       "    .dataframe thead th {\n",
       "        text-align: right;\n",
       "    }\n",
       "</style>\n",
       "<table border=\"1\" class=\"dataframe\">\n",
       "  <thead>\n",
       "    <tr style=\"text-align: right;\">\n",
       "      <th></th>\n",
       "      <th>case_count</th>\n",
       "      <th>acceptance_rate</th>\n",
       "    </tr>\n",
       "    <tr>\n",
       "      <th>currency</th>\n",
       "      <th></th>\n",
       "      <th></th>\n",
       "    </tr>\n",
       "  </thead>\n",
       "  <tbody>\n",
       "    <tr>\n",
       "      <th>CAD</th>\n",
       "      <td>905</td>\n",
       "      <td>0.696133</td>\n",
       "    </tr>\n",
       "    <tr>\n",
       "      <th>EUR</th>\n",
       "      <td>905</td>\n",
       "      <td>0.700552</td>\n",
       "    </tr>\n",
       "    <tr>\n",
       "      <th>GBP</th>\n",
       "      <td>905</td>\n",
       "      <td>0.714917</td>\n",
       "    </tr>\n",
       "    <tr>\n",
       "      <th>MXN</th>\n",
       "      <td>905</td>\n",
       "      <td>0.711602</td>\n",
       "    </tr>\n",
       "    <tr>\n",
       "      <th>USD</th>\n",
       "      <td>1810</td>\n",
       "      <td>0.675138</td>\n",
       "    </tr>\n",
       "  </tbody>\n",
       "</table>\n",
       "</div>"
      ],
      "text/plain": [
       "          case_count  acceptance_rate\n",
       "currency                             \n",
       "CAD              905         0.696133\n",
       "EUR              905         0.700552\n",
       "GBP              905         0.714917\n",
       "MXN              905         0.711602\n",
       "USD             1810         0.675138"
      ]
     },
     "execution_count": 55,
     "metadata": {},
     "output_type": "execute_result"
    }
   ],
   "source": [
    "df_acceptance.groupby('currency').encoding.agg(case_count = 'count', acceptance_rate = 'mean')\n"
   ]
  },
  {
   "cell_type": "markdown",
   "id": "bdd0c611",
   "metadata": {},
   "source": [
    "#### Acceptance rate to CVV provision status"
   ]
  },
  {
   "cell_type": "code",
   "execution_count": 81,
   "id": "2b20e59e",
   "metadata": {},
   "outputs": [
    {
     "data": {
      "text/html": [
       "<div>\n",
       "<style scoped>\n",
       "    .dataframe tbody tr th:only-of-type {\n",
       "        vertical-align: middle;\n",
       "    }\n",
       "\n",
       "    .dataframe tbody tr th {\n",
       "        vertical-align: top;\n",
       "    }\n",
       "\n",
       "    .dataframe thead th {\n",
       "        text-align: right;\n",
       "    }\n",
       "</style>\n",
       "<table border=\"1\" class=\"dataframe\">\n",
       "  <thead>\n",
       "    <tr style=\"text-align: right;\">\n",
       "      <th></th>\n",
       "      <th>cvv_provided</th>\n",
       "      <th>case_count</th>\n",
       "      <th>acceptance_rate</th>\n",
       "    </tr>\n",
       "  </thead>\n",
       "  <tbody>\n",
       "    <tr>\n",
       "      <th>0</th>\n",
       "      <td>False</td>\n",
       "      <td>5390</td>\n",
       "      <td>0.696104</td>\n",
       "    </tr>\n",
       "    <tr>\n",
       "      <th>1</th>\n",
       "      <td>True</td>\n",
       "      <td>40</td>\n",
       "      <td>0.625000</td>\n",
       "    </tr>\n",
       "  </tbody>\n",
       "</table>\n",
       "</div>"
      ],
      "text/plain": [
       "   cvv_provided  case_count  acceptance_rate\n",
       "0         False        5390         0.696104\n",
       "1          True          40         0.625000"
      ]
     },
     "execution_count": 81,
     "metadata": {},
     "output_type": "execute_result"
    }
   ],
   "source": [
    "df_cvv = df_acceptance.groupby('cvv_provided').encoding.agg(case_count = 'count', acceptance_rate = 'mean')\n",
    "df_cvv = df_cvv.reset_index()\n",
    "df_cvv"
   ]
  },
  {
   "cell_type": "code",
   "execution_count": 71,
   "id": "9da3e14f",
   "metadata": {},
   "outputs": [],
   "source": [
    "# To DO: \n",
    "#   1. Acceptance rate by hour and by country\n",
    "#   2. Distribution plots -  they would also allow us create predictive models \n"
   ]
  },
  {
   "cell_type": "markdown",
   "id": "e909d0ae",
   "metadata": {},
   "source": [
    "### Suggests solutions / recommendations "
   ]
  },
  {
   "cell_type": "markdown",
   "id": "424232f7",
   "metadata": {},
   "source": [
    "### Lists further next steps (hypothesis / analysis) you would do as a next steps having more time and business knowledge"
   ]
  },
  {
   "cell_type": "code",
   "execution_count": 72,
   "id": "d6c2b7ac",
   "metadata": {},
   "outputs": [],
   "source": [
    "# 1. What time of day are transactions most succesfull\n",
    "# 2. Implement a ML Decision tree to predict if the transaction will be declined or accepted.\n",
    "# 3. Implement feature importance to see which features had the highest contribution to a card being declined or accepted."
   ]
  },
  {
   "cell_type": "markdown",
   "id": "27acbba5",
   "metadata": {},
   "source": [
    "# Task 2"
   ]
  },
  {
   "cell_type": "markdown",
   "id": "7bfe22a2",
   "metadata": {},
   "source": [
    "## What is the acceptance rate over time?"
   ]
  },
  {
   "cell_type": "code",
   "execution_count": 20,
   "id": "8f49e81c",
   "metadata": {},
   "outputs": [],
   "source": [
    "# convert date to datetime \n",
    "df_acceptance['date_time'] = pd.to_datetime(df_acceptance['date_time'])\n",
    "df_acceptance.index = pd.to_datetime(df_acceptance['date_time'])"
   ]
  },
  {
   "cell_type": "code",
   "execution_count": 22,
   "id": "c76a8bff",
   "metadata": {},
   "outputs": [],
   "source": [
    "# Change'state' column into 1 or 0\n",
    "df_acceptance['encoding'] = df_acceptance.state.apply(lambda x: 1 if x == 'ACCEPTED' else 0)"
   ]
  },
  {
   "cell_type": "code",
   "execution_count": 25,
   "id": "dfcb7bd2",
   "metadata": {},
   "outputs": [
    {
     "data": {
      "text/plain": [
       "date_time\n",
       "2019-01-31 00:00:00+00:00    0.695699\n",
       "2019-02-28 00:00:00+00:00    0.701190\n",
       "2019-03-31 00:00:00+00:00    0.689247\n",
       "2019-04-30 00:00:00+00:00    0.677778\n",
       "2019-05-31 00:00:00+00:00    0.693548\n",
       "2019-06-30 00:00:00+00:00    0.716667\n",
       "Freq: M, Name: encoding, dtype: float64"
      ]
     },
     "execution_count": 25,
     "metadata": {},
     "output_type": "execute_result"
    }
   ],
   "source": [
    "sns.set_style('whitegrid')\n",
    "df_weekly = df_acceptance['encoding'].resample('W').mean()\n",
    "df_monthly = df_acceptance['encoding'].resample('M').mean()\n",
    "df_monthly"
   ]
  },
  {
   "cell_type": "code",
   "execution_count": 26,
   "id": "24d077f7",
   "metadata": {},
   "outputs": [
    {
     "data": {
      "text/plain": [
       "[]"
      ]
     },
     "execution_count": 26,
     "metadata": {},
     "output_type": "execute_result"
    },
    {
     "data": {
      "image/png": "[encoded data removed]",
      "text/plain": [
       "<Figure size 1080x360 with 2 Axes>"
      ]
     },
     "metadata": {},
     "output_type": "display_data"
    }
   ],
   "source": [
    "fig,[ax1, ax2] = plt.subplots(nrows=1,ncols=2, figsize = (15,5))\n",
    "\n",
    "df_weekly.plot(ax=ax1).set(xlabel=\"Week\", ylabel=\"Acceptance_rate\")\n",
    "ax1.set_title(\"Weekly Acceptance Rate\", fontsize = 15)\n",
    "\n",
    "df_monthly.plot(ax=ax2).set(xlabel=\"Month\", ylabel=\"Acceptance_rate\")\n",
    "ax2.set_title(\"Monthly_acceptance_rate\", fontsize = 15)\n",
    "\n",
    "plt.plot() "
   ]
  },
  {
   "cell_type": "code",
   "execution_count": 28,
   "id": "ecd4bc21",
   "metadata": {},
   "outputs": [],
   "source": [
    "# To DO: Carry out daily weekly rates"
   ]
  },
  {
   "cell_type": "markdown",
   "id": "44dbfa60",
   "metadata": {},
   "source": [
    "## List the countries where the amount of declined transactions went over $25M"
   ]
  },
  {
   "cell_type": "code",
   "execution_count": 44,
   "id": "1402cec4",
   "metadata": {},
   "outputs": [
    {
     "data": {
      "text/html": [
       "<div>\n",
       "<style scoped>\n",
       "    .dataframe tbody tr th:only-of-type {\n",
       "        vertical-align: middle;\n",
       "    }\n",
       "\n",
       "    .dataframe tbody tr th {\n",
       "        vertical-align: top;\n",
       "    }\n",
       "\n",
       "    .dataframe thead th {\n",
       "        text-align: right;\n",
       "    }\n",
       "</style>\n",
       "<table border=\"1\" class=\"dataframe\">\n",
       "  <thead>\n",
       "    <tr style=\"text-align: right;\">\n",
       "      <th></th>\n",
       "      <th>state</th>\n",
       "      <th>country</th>\n",
       "      <th>amount_usd</th>\n",
       "    </tr>\n",
       "  </thead>\n",
       "  <tbody>\n",
       "    <tr>\n",
       "      <th>0</th>\n",
       "      <td>DECLINED</td>\n",
       "      <td>FR</td>\n",
       "      <td>3.262879e+07</td>\n",
       "    </tr>\n",
       "    <tr>\n",
       "      <th>1</th>\n",
       "      <td>DECLINED</td>\n",
       "      <td>UK</td>\n",
       "      <td>2.748950e+07</td>\n",
       "    </tr>\n",
       "    <tr>\n",
       "      <th>2</th>\n",
       "      <td>DECLINED</td>\n",
       "      <td>AE</td>\n",
       "      <td>2.633515e+07</td>\n",
       "    </tr>\n",
       "    <tr>\n",
       "      <th>3</th>\n",
       "      <td>DECLINED</td>\n",
       "      <td>US</td>\n",
       "      <td>2.512567e+07</td>\n",
       "    </tr>\n",
       "    <tr>\n",
       "      <th>4</th>\n",
       "      <td>DECLINED</td>\n",
       "      <td>CA</td>\n",
       "      <td>1.842232e+07</td>\n",
       "    </tr>\n",
       "    <tr>\n",
       "      <th>5</th>\n",
       "      <td>DECLINED</td>\n",
       "      <td>MX</td>\n",
       "      <td>8.761584e+05</td>\n",
       "    </tr>\n",
       "  </tbody>\n",
       "</table>\n",
       "</div>"
      ],
      "text/plain": [
       "      state country    amount_usd\n",
       "0  DECLINED      FR  3.262879e+07\n",
       "1  DECLINED      UK  2.748950e+07\n",
       "2  DECLINED      AE  2.633515e+07\n",
       "3  DECLINED      US  2.512567e+07\n",
       "4  DECLINED      CA  1.842232e+07\n",
       "5  DECLINED      MX  8.761584e+05"
      ]
     },
     "execution_count": 44,
     "metadata": {},
     "output_type": "execute_result"
    }
   ],
   "source": [
    "df_declined_transactions = df_acceptance[df_acceptance.state=='DECLINED'].groupby(['state','country'])['amount_usd'].sum().sort_values(ascending=False).reset_index()\n",
    "df_declined_transactions"
   ]
  },
  {
   "cell_type": "code",
   "execution_count": 47,
   "id": "7275acc3",
   "metadata": {},
   "outputs": [
    {
     "data": {
      "text/plain": [
       "array(['FR', 'UK', 'AE', 'US'], dtype=object)"
      ]
     },
     "execution_count": 47,
     "metadata": {},
     "output_type": "execute_result"
    }
   ],
   "source": [
    "df_declined_transactions[df_declined_transactions.amount_usd > 25000000]['country'].unique()"
   ]
  },
  {
   "cell_type": "markdown",
   "id": "308e717e",
   "metadata": {},
   "source": [
    "## Which transactions are missing chargeback data?"
   ]
  },
  {
   "cell_type": "code",
   "execution_count": 50,
   "id": "bbbb5f33",
   "metadata": {},
   "outputs": [
    {
     "data": {
      "text/html": [
       "<div>\n",
       "<style scoped>\n",
       "    .dataframe tbody tr th:only-of-type {\n",
       "        vertical-align: middle;\n",
       "    }\n",
       "\n",
       "    .dataframe tbody tr th {\n",
       "        vertical-align: top;\n",
       "    }\n",
       "\n",
       "    .dataframe thead th {\n",
       "        text-align: right;\n",
       "    }\n",
       "</style>\n",
       "<table border=\"1\" class=\"dataframe\">\n",
       "  <thead>\n",
       "    <tr style=\"text-align: right;\">\n",
       "      <th></th>\n",
       "      <th>external_ref</th>\n",
       "      <th>status_x</th>\n",
       "      <th>source_x</th>\n",
       "      <th>ref</th>\n",
       "      <th>date_time</th>\n",
       "      <th>state</th>\n",
       "      <th>cvv_provided</th>\n",
       "      <th>amount</th>\n",
       "      <th>country</th>\n",
       "      <th>currency</th>\n",
       "      <th>rates</th>\n",
       "      <th>amount_usd</th>\n",
       "      <th>encoding</th>\n",
       "      <th>status_y</th>\n",
       "      <th>source_y</th>\n",
       "      <th>chargeback</th>\n",
       "    </tr>\n",
       "  </thead>\n",
       "  <tbody>\n",
       "    <tr>\n",
       "      <th>0</th>\n",
       "      <td>nCyEIIGaP5QQ2Wqb-_Rt8</td>\n",
       "      <td>True</td>\n",
       "      <td>GLOBALPAY</td>\n",
       "      <td>evt_1ESgcCOV7fY1ChY1MkZizZt</td>\n",
       "      <td>2019-01-01 00:00:00+00:00</td>\n",
       "      <td>DECLINED</td>\n",
       "      <td>False</td>\n",
       "      <td>1020.46</td>\n",
       "      <td>US</td>\n",
       "      <td>USD</td>\n",
       "      <td>{\"CAD\":1.415,\"EUR\":0.926,\"MXN\":25.103,\"USD\":1,...</td>\n",
       "      <td>1020.46</td>\n",
       "      <td>0</td>\n",
       "      <td>True</td>\n",
       "      <td>GLOBALPAY</td>\n",
       "      <td>False</td>\n",
       "    </tr>\n",
       "    <tr>\n",
       "      <th>1</th>\n",
       "      <td>ptNiI9B7NNpK7VsMZx6zZ</td>\n",
       "      <td>True</td>\n",
       "      <td>GLOBALPAY</td>\n",
       "      <td>evt_1EBMGCEjEtianKMJaZXOx1y</td>\n",
       "      <td>2019-01-01 04:48:00+00:00</td>\n",
       "      <td>ACCEPTED</td>\n",
       "      <td>False</td>\n",
       "      <td>1582.57</td>\n",
       "      <td>US</td>\n",
       "      <td>USD</td>\n",
       "      <td>{\"CAD\":1.415,\"EUR\":0.926,\"MXN\":25.103,\"USD\":1,...</td>\n",
       "      <td>1582.57</td>\n",
       "      <td>1</td>\n",
       "      <td>True</td>\n",
       "      <td>GLOBALPAY</td>\n",
       "      <td>True</td>\n",
       "    </tr>\n",
       "    <tr>\n",
       "      <th>2</th>\n",
       "      <td>1GS5BDKBnauCt-3nHPs6x</td>\n",
       "      <td>True</td>\n",
       "      <td>GLOBALPAY</td>\n",
       "      <td>evt_1EOALu0AZqEhZBn9ub_nbcE</td>\n",
       "      <td>2019-01-01 09:36:00+00:00</td>\n",
       "      <td>DECLINED</td>\n",
       "      <td>False</td>\n",
       "      <td>1653.07</td>\n",
       "      <td>US</td>\n",
       "      <td>USD</td>\n",
       "      <td>{\"CAD\":1.415,\"EUR\":0.926,\"MXN\":25.103,\"USD\":1,...</td>\n",
       "      <td>1653.07</td>\n",
       "      <td>0</td>\n",
       "      <td>True</td>\n",
       "      <td>GLOBALPAY</td>\n",
       "      <td>False</td>\n",
       "    </tr>\n",
       "    <tr>\n",
       "      <th>3</th>\n",
       "      <td>Y_oecYz8GjBDaxmMqkkLQ</td>\n",
       "      <td>True</td>\n",
       "      <td>GLOBALPAY</td>\n",
       "      <td>evt_1ESHsWyaSPqE1mrmJ2B6rvs</td>\n",
       "      <td>2019-01-01 14:24:00+00:00</td>\n",
       "      <td>ACCEPTED</td>\n",
       "      <td>False</td>\n",
       "      <td>2228.17</td>\n",
       "      <td>US</td>\n",
       "      <td>USD</td>\n",
       "      <td>{\"CAD\":1.415,\"EUR\":0.926,\"MXN\":25.103,\"USD\":1,...</td>\n",
       "      <td>2228.17</td>\n",
       "      <td>1</td>\n",
       "      <td>True</td>\n",
       "      <td>GLOBALPAY</td>\n",
       "      <td>True</td>\n",
       "    </tr>\n",
       "    <tr>\n",
       "      <th>4</th>\n",
       "      <td>LlEs1TnKVa2xX6PH9Zsz0</td>\n",
       "      <td>True</td>\n",
       "      <td>GLOBALPAY</td>\n",
       "      <td>evt_1EjzPk13qLzmvDR_4hXuMMw</td>\n",
       "      <td>2019-01-01 19:12:00+00:00</td>\n",
       "      <td>ACCEPTED</td>\n",
       "      <td>False</td>\n",
       "      <td>2589.92</td>\n",
       "      <td>US</td>\n",
       "      <td>USD</td>\n",
       "      <td>{\"CAD\":1.415,\"EUR\":0.926,\"MXN\":25.103,\"USD\":1,...</td>\n",
       "      <td>2589.92</td>\n",
       "      <td>1</td>\n",
       "      <td>True</td>\n",
       "      <td>GLOBALPAY</td>\n",
       "      <td>True</td>\n",
       "    </tr>\n",
       "  </tbody>\n",
       "</table>\n",
       "</div>"
      ],
      "text/plain": [
       "            external_ref  status_x   source_x                          ref  \\\n",
       "0  nCyEIIGaP5QQ2Wqb-_Rt8      True  GLOBALPAY  evt_1ESgcCOV7fY1ChY1MkZizZt   \n",
       "1  ptNiI9B7NNpK7VsMZx6zZ      True  GLOBALPAY  evt_1EBMGCEjEtianKMJaZXOx1y   \n",
       "2  1GS5BDKBnauCt-3nHPs6x      True  GLOBALPAY  evt_1EOALu0AZqEhZBn9ub_nbcE   \n",
       "3  Y_oecYz8GjBDaxmMqkkLQ      True  GLOBALPAY  evt_1ESHsWyaSPqE1mrmJ2B6rvs   \n",
       "4  LlEs1TnKVa2xX6PH9Zsz0      True  GLOBALPAY  evt_1EjzPk13qLzmvDR_4hXuMMw   \n",
       "\n",
       "                  date_time     state  cvv_provided   amount country currency  \\\n",
       "0 2019-01-01 00:00:00+00:00  DECLINED         False  1020.46      US      USD   \n",
       "1 2019-01-01 04:48:00+00:00  ACCEPTED         False  1582.57      US      USD   \n",
       "2 2019-01-01 09:36:00+00:00  DECLINED         False  1653.07      US      USD   \n",
       "3 2019-01-01 14:24:00+00:00  ACCEPTED         False  2228.17      US      USD   \n",
       "4 2019-01-01 19:12:00+00:00  ACCEPTED         False  2589.92      US      USD   \n",
       "\n",
       "                                               rates  amount_usd  encoding  \\\n",
       "0  {\"CAD\":1.415,\"EUR\":0.926,\"MXN\":25.103,\"USD\":1,...     1020.46         0   \n",
       "1  {\"CAD\":1.415,\"EUR\":0.926,\"MXN\":25.103,\"USD\":1,...     1582.57         1   \n",
       "2  {\"CAD\":1.415,\"EUR\":0.926,\"MXN\":25.103,\"USD\":1,...     1653.07         0   \n",
       "3  {\"CAD\":1.415,\"EUR\":0.926,\"MXN\":25.103,\"USD\":1,...     2228.17         1   \n",
       "4  {\"CAD\":1.415,\"EUR\":0.926,\"MXN\":25.103,\"USD\":1,...     2589.92         1   \n",
       "\n",
       "   status_y   source_y  chargeback  \n",
       "0      True  GLOBALPAY       False  \n",
       "1      True  GLOBALPAY        True  \n",
       "2      True  GLOBALPAY       False  \n",
       "3      True  GLOBALPAY        True  \n",
       "4      True  GLOBALPAY        True  "
      ]
     },
     "execution_count": 50,
     "metadata": {},
     "output_type": "execute_result"
    }
   ],
   "source": [
    "# left join the 2 data sets\n",
    "merged_data = df_acceptance.merge(df_chargeback,on='external_ref',how='left')\n",
    "merged_data.head()"
   ]
  },
  {
   "cell_type": "code",
   "execution_count": 52,
   "id": "e3a8d281",
   "metadata": {},
   "outputs": [
    {
     "data": {
      "text/plain": [
       "0"
      ]
     },
     "execution_count": 52,
     "metadata": {},
     "output_type": "execute_result"
    }
   ],
   "source": [
    "merged_data.chargeback.isna().sum()"
   ]
  }
 ],
 "metadata": {
  "hide_input": false,
  "kernelspec": {
   "display_name": "Python 3 (ipykernel)",
   "language": "python",
   "name": "python3"
  },
  "language_info": {
   "codemirror_mode": {
    "name": "ipython",
    "version": 3
   },
   "file_extension": ".py",
   "mimetype": "text/x-python",
   "name": "python",
   "nbconvert_exporter": "python",
   "pygments_lexer": "ipython3",
   "version": "3.9.12"
  },
  "toc": {
   "base_numbering": 1,
   "nav_menu": {},
   "number_sections": true,
   "sideBar": true,
   "skip_h1_title": false,
   "title_cell": "Table of Contents",
   "title_sidebar": "Contents",
   "toc_cell": false,
   "toc_position": {
    "height": "calc(100% - 180px)",
    "left": "10px",
    "top": "150px",
    "width": "366px"
   },
   "toc_section_display": true,
   "toc_window_display": true
  }
 },
 "nbformat": 4,
 "nbformat_minor": 5
}
